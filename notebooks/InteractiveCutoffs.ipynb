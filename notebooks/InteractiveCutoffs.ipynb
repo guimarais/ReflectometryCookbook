{
 "cells": [
  {
   "cell_type": "code",
   "execution_count": 1,
   "metadata": {
    "collapsed": true
   },
   "outputs": [],
   "source": [
    "%matplotlib inline\n",
    "import matplotlib.pyplot as plt\n",
    "import numpy as np\n",
    "from ipywidgets import interact\n",
    "from refo import SimulDensPerf\n",
    "from refo.AuxFunctions import *"
   ]
  },
  {
   "cell_type": "code",
   "execution_count": 2,
   "metadata": {},
   "outputs": [
    {
     "data": {
      "application/vnd.jupyter.widget-view+json": {
       "model_id": "aa5b8e2cb6cd44929075893598dc5869",
       "version_major": 2,
       "version_minor": 0
      },
      "text/plain": [
       "A Jupyter Widget"
      ]
     },
     "metadata": {},
     "output_type": "display_data"
    },
    {
     "data": {
      "text/plain": [
       "<function __main__.plot_cutoffs>"
      ]
     },
     "execution_count": 2,
     "metadata": {},
     "output_type": "execute_result"
    }
   ],
   "source": [
    "def plot_cutoffs(dens0, Bt):\n",
    "    r, dens = SimulDensPerf(dens0=dens0*1e19)\n",
    "    fpe = n2f(dens)\n",
    "    plt.plot(r, fpe*1e-9, label='Fpe')\n",
    "    #\n",
    "    Brad = Bt*r[0]/r\n",
    "    fce = 1.6e-19*Brad/(2.0*np.pi*9.11e-31)\n",
    "    plt.plot(r, fce*1e-9, label='Fce')\n",
    "    #\n",
    "    flc = -fce/2+np.sqrt(fce**2/4 + fpe**2)\n",
    "    plt.plot(r, flc*1e-9, label='Flc')\n",
    "    fuc = +fce/2+np.sqrt(fce**2/4 + fpe**2)\n",
    "    plt.plot(r, fuc*1e-9, label='Fuc')\n",
    "    #\n",
    "    plt.ylim(0, 120)\n",
    "    plt.ylabel(r'Cutoffs [GHz]')\n",
    "    plt.xlabel(r'R [m]')\n",
    "    plt.legend()\n",
    "    plt.show()\n",
    "\n",
    "interact(plot_cutoffs, dens0=(0, 10, 1), Bt=(0.5, 3, 0.1))"
   ]
  },
  {
   "cell_type": "code",
   "execution_count": 10,
   "metadata": {},
   "outputs": [
    {
     "data": {
      "text/plain": [
       "1.0"
      ]
     },
     "execution_count": 10,
     "metadata": {},
     "output_type": "execute_result"
    }
   ],
   "source": [
    "n2f(f2n(1))"
   ]
  },
  {
   "cell_type": "code",
   "execution_count": 7,
   "metadata": {},
   "outputs": [
    {
     "data": {
      "text/plain": [
       "27992490076.52821"
      ]
     },
     "execution_count": 7,
     "metadata": {},
     "output_type": "execute_result"
    }
   ],
   "source": [
    "b2f(1)"
   ]
  },
  {
   "cell_type": "code",
   "execution_count": null,
   "metadata": {
    "collapsed": true
   },
   "outputs": [],
   "source": []
  }
 ],
 "metadata": {
  "kernelspec": {
   "display_name": "Python 2",
   "language": "python",
   "name": "python2"
  },
  "language_info": {
   "codemirror_mode": {
    "name": "ipython",
    "version": 2
   },
   "file_extension": ".py",
   "mimetype": "text/x-python",
   "name": "python",
   "nbconvert_exporter": "python",
   "pygments_lexer": "ipython2",
   "version": "2.7.13"
  }
 },
 "nbformat": 4,
 "nbformat_minor": 2
}
