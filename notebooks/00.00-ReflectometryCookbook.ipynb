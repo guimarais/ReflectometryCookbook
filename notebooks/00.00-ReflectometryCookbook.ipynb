{
 "cells": [
  {
   "cell_type": "markdown",
   "metadata": {
    "toc-hr-collapsed": false
   },
   "source": [
    "# Reflectometry Cookbook"
   ]
  },
  {
   "cell_type": "markdown",
   "metadata": {
    "toc-hr-collapsed": false
   },
   "source": [
    "## Index\n",
    "\n",
    "## [O-mode](O-ModeInversion.ipynb)\n",
    "\n",
    "### [Density Profiles](O-ModeInversion.ipynb)\n",
    "\n",
    "1. [O-Mode inversion](02.01-O-ModeInversion.ipynb)\n",
    "1. [Influence of the initialization](InfluenceInitialization.ipynb)\n",
    "\n",
    "### [Post-processing](04.00-PostProcessing.ipynb)\n",
    "1. [Iso-density layers](O-ModeInversion.ipynb)\n",
    "1. [Median Filter](MedianFilter.ipynb)"
   ]
  },
  {
   "cell_type": "code",
   "execution_count": null,
   "metadata": {},
   "outputs": [],
   "source": []
  }
 ],
 "metadata": {
  "kernelspec": {
   "display_name": "Python 3",
   "language": "python",
   "name": "python3"
  },
  "language_info": {
   "codemirror_mode": {
    "name": "ipython",
    "version": 3
   },
   "file_extension": ".py",
   "mimetype": "text/x-python",
   "name": "python",
   "nbconvert_exporter": "python",
   "pygments_lexer": "ipython3",
   "version": "3.6.8"
  }
 },
 "nbformat": 4,
 "nbformat_minor": 2
}
