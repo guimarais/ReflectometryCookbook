{
 "cells": [
  {
   "cell_type": "code",
   "execution_count": 10,
   "metadata": {},
   "outputs": [],
   "source": [
    "import numpy as np\n",
    "import sys\n",
    "sys.path.append('../../')\n",
    "from reflib import SimulDensPerf\n",
    "from reflib import CalcInvPerfO\n",
    "from reflib.AuxFunctions import n2f\n",
    "from reflib.AuxFunctions import f2n"
   ]
  },
  {
   "cell_type": "code",
   "execution_count": 11,
   "metadata": {},
   "outputs": [],
   "source": [
    "def test_SimulDensPerf():\n",
    "    assert np.shape(SimulDensPerf())==(2,100)\n",
    "    assert max(SimulDensPerf(dens0=0.0)[1][:])==0.0"
   ]
  },
  {
   "cell_type": "code",
   "execution_count": 12,
   "metadata": {},
   "outputs": [],
   "source": [
    "def test_CalcInvPerfO():\n",
    "    assert np.round(CalcInvPerfO([1,1], [1,1], vacd=1)[0][1])==4684258\n",
    "    assert np.shape(CalcInvPerfO([1,1], [1,1], vacd=1))==(4,34)"
   ]
  },
  {
   "cell_type": "code",
   "execution_count": 13,
   "metadata": {},
   "outputs": [],
   "source": [
    "def test_n2f():\n",
    "    assert np.round(n2f(1.12e19)/1e8)==300\n",
    "    assert np.round(n2f(6.e19)/1e8)==695"
   ]
  },
  {
   "cell_type": "code",
   "execution_count": 14,
   "metadata": {},
   "outputs": [],
   "source": [
    "def test_f2n():\n",
    "    np.round(f2n(29e9)/1e18)==10\n",
    "    np.floor(f2n(69e9)/1e17)==590"
   ]
  },
  {
   "cell_type": "code",
   "execution_count": null,
   "metadata": {},
   "outputs": [],
   "source": []
  }
 ],
 "metadata": {
  "kernelspec": {
   "display_name": "Python 3",
   "language": "python",
   "name": "python3"
  },
  "language_info": {
   "codemirror_mode": {
    "name": "ipython",
    "version": 3
   },
   "file_extension": ".py",
   "mimetype": "text/x-python",
   "name": "python",
   "nbconvert_exporter": "python",
   "pygments_lexer": "ipython3",
   "version": "3.6.8"
  }
 },
 "nbformat": 4,
 "nbformat_minor": 2
}
